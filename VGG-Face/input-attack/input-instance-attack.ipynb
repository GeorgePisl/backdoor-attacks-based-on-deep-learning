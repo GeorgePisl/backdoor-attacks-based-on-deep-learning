{
 "cells": [
  {
   "cell_type": "code",
   "execution_count": 1,
   "metadata": {
    "scrolled": true
   },
   "outputs": [
    {
     "name": "stderr",
     "output_type": "stream",
     "text": [
      "Using TensorFlow backend.\n"
     ]
    },
    {
     "name": "stdout",
     "output_type": "stream",
     "text": [
      "Tensorflow version 1.15.0\n",
      "Keras version 2.3.1\n",
      "Found GPU at: /device:GPU:0\n"
     ]
    },
    {
     "data": {
      "text/plain": [
       "[name: \"/device:CPU:0\"\n",
       " device_type: \"CPU\"\n",
       " memory_limit: 268435456\n",
       " locality {\n",
       " }\n",
       " incarnation: 14844476371478061862,\n",
       " name: \"/device:XLA_CPU:0\"\n",
       " device_type: \"XLA_CPU\"\n",
       " memory_limit: 17179869184\n",
       " locality {\n",
       " }\n",
       " incarnation: 13066543586446211400\n",
       " physical_device_desc: \"device: XLA_CPU device\",\n",
       " name: \"/device:XLA_GPU:0\"\n",
       " device_type: \"XLA_GPU\"\n",
       " memory_limit: 17179869184\n",
       " locality {\n",
       " }\n",
       " incarnation: 17787594890999484666\n",
       " physical_device_desc: \"device: XLA_GPU device\",\n",
       " name: \"/device:GPU:0\"\n",
       " device_type: \"GPU\"\n",
       " memory_limit: 7641507431\n",
       " locality {\n",
       "   bus_id: 1\n",
       "   links {\n",
       "   }\n",
       " }\n",
       " incarnation: 5510150113537713446\n",
       " physical_device_desc: \"device: 0, name: GeForce GTX 1070, pci bus id: 0000:01:00.0, compute capability: 6.1\"]"
      ]
     },
     "execution_count": 1,
     "metadata": {},
     "output_type": "execute_result"
    }
   ],
   "source": [
    "import numpy as np\n",
    "import tensorflow as tf\n",
    "import keras\n",
    "import PIL\n",
    "import pandas as pd\n",
    "\n",
    "\n",
    "print(\"Tensorflow version %s\" %tf.__version__)\n",
    "print(\"Keras version %s\" %keras.__version__)\n",
    "\n",
    "device_name = tf.test.gpu_device_name()\n",
    "if device_name != '/device:GPU:0':\n",
    "  raise SystemError('GPU device not found')\n",
    "print('Found GPU at: {}'.format(device_name))\n",
    "\n",
    "from tensorflow.python.client import device_lib\n",
    "device_lib.list_local_devices()"
   ]
  },
  {
   "cell_type": "code",
   "execution_count": 3,
   "metadata": {
    "scrolled": true
   },
   "outputs": [
    {
     "name": "stdout",
     "output_type": "stream",
     "text": [
      "WARNING:tensorflow:From /home/herson/.local/lib/python3.7/site-packages/tensorflow_core/python/ops/resource_variable_ops.py:1630: calling BaseResourceVariable.__init__ (from tensorflow.python.ops.resource_variable_ops) with constraint is deprecated and will be removed in a future version.\n",
      "Instructions for updating:\n",
      "If using Keras pass *_constraint arguments to layers.\n",
      "WARNING:tensorflow:From /home/herson/.local/lib/python3.7/site-packages/keras/backend/tensorflow_backend.py:4070: The name tf.nn.max_pool is deprecated. Please use tf.nn.max_pool2d instead.\n",
      "\n",
      "Model: \"vggface_vgg16\"\n",
      "_________________________________________________________________\n",
      "Layer (type)                 Output Shape              Param #   \n",
      "=================================================================\n",
      "input_1 (InputLayer)         (None, 224, 224, 3)       0         \n",
      "_________________________________________________________________\n",
      "conv1_1 (Conv2D)             (None, 224, 224, 64)      1792      \n",
      "_________________________________________________________________\n",
      "conv1_2 (Conv2D)             (None, 224, 224, 64)      36928     \n",
      "_________________________________________________________________\n",
      "pool1 (MaxPooling2D)         (None, 112, 112, 64)      0         \n",
      "_________________________________________________________________\n",
      "conv2_1 (Conv2D)             (None, 112, 112, 128)     73856     \n",
      "_________________________________________________________________\n",
      "conv2_2 (Conv2D)             (None, 112, 112, 128)     147584    \n",
      "_________________________________________________________________\n",
      "pool2 (MaxPooling2D)         (None, 56, 56, 128)       0         \n",
      "_________________________________________________________________\n",
      "conv3_1 (Conv2D)             (None, 56, 56, 256)       295168    \n",
      "_________________________________________________________________\n",
      "conv3_2 (Conv2D)             (None, 56, 56, 256)       590080    \n",
      "_________________________________________________________________\n",
      "conv3_3 (Conv2D)             (None, 56, 56, 256)       590080    \n",
      "_________________________________________________________________\n",
      "pool3 (MaxPooling2D)         (None, 28, 28, 256)       0         \n",
      "_________________________________________________________________\n",
      "conv4_1 (Conv2D)             (None, 28, 28, 512)       1180160   \n",
      "_________________________________________________________________\n",
      "conv4_2 (Conv2D)             (None, 28, 28, 512)       2359808   \n",
      "_________________________________________________________________\n",
      "conv4_3 (Conv2D)             (None, 28, 28, 512)       2359808   \n",
      "_________________________________________________________________\n",
      "pool4 (MaxPooling2D)         (None, 14, 14, 512)       0         \n",
      "_________________________________________________________________\n",
      "conv5_1 (Conv2D)             (None, 14, 14, 512)       2359808   \n",
      "_________________________________________________________________\n",
      "conv5_2 (Conv2D)             (None, 14, 14, 512)       2359808   \n",
      "_________________________________________________________________\n",
      "conv5_3 (Conv2D)             (None, 14, 14, 512)       2359808   \n",
      "_________________________________________________________________\n",
      "pool5 (MaxPooling2D)         (None, 7, 7, 512)         0         \n",
      "_________________________________________________________________\n",
      "flatten (Flatten)            (None, 25088)             0         \n",
      "_________________________________________________________________\n",
      "fc6 (Dense)                  (None, 4096)              102764544 \n",
      "_________________________________________________________________\n",
      "fc6/relu (Activation)        (None, 4096)              0         \n",
      "_________________________________________________________________\n",
      "fc7 (Dense)                  (None, 4096)              16781312  \n",
      "_________________________________________________________________\n",
      "fc7/relu (Activation)        (None, 4096)              0         \n",
      "_________________________________________________________________\n",
      "fc8 (Dense)                  (None, 2622)              10742334  \n",
      "_________________________________________________________________\n",
      "fc8/softmax (Activation)     (None, 2622)              0         \n",
      "=================================================================\n",
      "Total params: 145,002,878\n",
      "Trainable params: 145,002,878\n",
      "Non-trainable params: 0\n",
      "_________________________________________________________________\n",
      "None\n",
      "Model: \"model_1\"\n",
      "_________________________________________________________________\n",
      "Layer (type)                 Output Shape              Param #   \n",
      "=================================================================\n",
      "input_1 (InputLayer)         (None, 224, 224, 3)       0         \n",
      "_________________________________________________________________\n",
      "conv1_1 (Conv2D)             (None, 224, 224, 64)      1792      \n",
      "_________________________________________________________________\n",
      "conv1_2 (Conv2D)             (None, 224, 224, 64)      36928     \n",
      "_________________________________________________________________\n",
      "pool1 (MaxPooling2D)         (None, 112, 112, 64)      0         \n",
      "_________________________________________________________________\n",
      "conv2_1 (Conv2D)             (None, 112, 112, 128)     73856     \n",
      "_________________________________________________________________\n",
      "conv2_2 (Conv2D)             (None, 112, 112, 128)     147584    \n",
      "_________________________________________________________________\n",
      "pool2 (MaxPooling2D)         (None, 56, 56, 128)       0         \n",
      "_________________________________________________________________\n",
      "conv3_1 (Conv2D)             (None, 56, 56, 256)       295168    \n",
      "_________________________________________________________________\n",
      "conv3_2 (Conv2D)             (None, 56, 56, 256)       590080    \n",
      "_________________________________________________________________\n",
      "conv3_3 (Conv2D)             (None, 56, 56, 256)       590080    \n",
      "_________________________________________________________________\n",
      "pool3 (MaxPooling2D)         (None, 28, 28, 256)       0         \n",
      "_________________________________________________________________\n",
      "conv4_1 (Conv2D)             (None, 28, 28, 512)       1180160   \n",
      "_________________________________________________________________\n",
      "conv4_2 (Conv2D)             (None, 28, 28, 512)       2359808   \n",
      "_________________________________________________________________\n",
      "conv4_3 (Conv2D)             (None, 28, 28, 512)       2359808   \n",
      "_________________________________________________________________\n",
      "pool4 (MaxPooling2D)         (None, 14, 14, 512)       0         \n",
      "_________________________________________________________________\n",
      "conv5_1 (Conv2D)             (None, 14, 14, 512)       2359808   \n",
      "_________________________________________________________________\n",
      "conv5_2 (Conv2D)             (None, 14, 14, 512)       2359808   \n",
      "_________________________________________________________________\n",
      "conv5_3 (Conv2D)             (None, 14, 14, 512)       2359808   \n",
      "_________________________________________________________________\n",
      "pool5 (MaxPooling2D)         (None, 7, 7, 512)         0         \n",
      "_________________________________________________________________\n",
      "flatten (Flatten)            (None, 25088)             0         \n",
      "_________________________________________________________________\n",
      "fc6 (Dense)                  (None, 4096)              102764544 \n",
      "_________________________________________________________________\n",
      "fc6/relu (Activation)        (None, 4096)              0         \n",
      "_________________________________________________________________\n",
      "fc7 (Dense)                  (None, 4096)              16781312  \n",
      "_________________________________________________________________\n",
      "fc7/relu (Activation)        (None, 4096)              0         \n",
      "_________________________________________________________________\n",
      "fc8 (Dense)                  (None, 1283)              5256451   \n",
      "=================================================================\n",
      "Total params: 139,516,995\n",
      "Trainable params: 5,256,451\n",
      "Non-trainable params: 134,260,544\n",
      "_________________________________________________________________\n",
      "None\n"
     ]
    }
   ],
   "source": [
    "from keras.models import Sequential, Model\n",
    "from keras.layers import Dense, Activation, Dropout, Flatten, Convolution2D, MaxPooling2D, ZeroPadding2D\n",
    "from keras.optimizers import Adam\n",
    "\n",
    "from keras_vggface.vggface import VGGFace\n",
    "vgg_model = VGGFace(include_top=True, input_shape=(224, 224, 3))\n",
    "print(vgg_model.summary())\n",
    "for layer in vgg_model.layers:\n",
    "    layer.trainable = False\n",
    "last_layer = vgg_model.get_layer('fc7/relu').output\n",
    "out = Dense(1283, activation='softmax', name='fc8')(last_layer)\n",
    "custom_vgg_model = Model(vgg_model.input, out)\n",
    "\n",
    "print(custom_vgg_model.summary())\n",
    "adam = Adam(lr=1e-3, beta_1=0.9, beta_2=0.999)\n",
    "custom_vgg_model.compile(optimizer=adam, loss='categorical_crossentropy', metrics=['accuracy'])"
   ]
  },
  {
   "cell_type": "code",
   "execution_count": 4,
   "metadata": {
    "scrolled": false
   },
   "outputs": [
    {
     "name": "stdout",
     "output_type": "stream",
     "text": [
      "Found 115527 images belonging to 1283 classes.\n",
      "Found 12830 images belonging to 1283 classes.\n",
      "Loaded 115527 training samples from 1283 classes.\n",
      "Loaded 12830 test samples from 1283 classes.\n"
     ]
    }
   ],
   "source": [
    "from keras.preprocessing.image import ImageDataGenerator\n",
    "from os import listdir\n",
    "from keras.callbacks import ModelCheckpoint, EarlyStopping\n",
    "\n",
    "#loading training and validation sets\n",
    "traindir = '/home/herson/Desktop/YouTubeFaces/YouTubeFaces/VGG_DB/TrainSet'\n",
    "valdir = '/home/herson/Desktop/YouTubeFaces/YouTubeFaces/VGG_DB/ValidationSet'\n",
    "batch_size = 64\n",
    "input_shape = ()\n",
    "\n",
    "train_datagen = ImageDataGenerator(\n",
    "    rescale=1./255,\n",
    "    shear_range=0.2,\n",
    "    zoom_range=0.2,\n",
    "    horizontal_flip=True\n",
    "    ) \n",
    "\n",
    "\n",
    "train_generator = train_datagen.flow_from_directory(\n",
    "    traindir,\n",
    "    target_size=(224, 224),\n",
    "    batch_size=batch_size,\n",
    "    class_mode='categorical',\n",
    "    shuffle = True\n",
    "    )\n",
    "\n",
    "val_datagen = ImageDataGenerator(\n",
    "    rescale=1./255,\n",
    "    shear_range=0.2,\n",
    "    zoom_range=0.2,\n",
    "    horizontal_flip=True\n",
    "    ) \n",
    "\n",
    "validation_generator = val_datagen.flow_from_directory(\n",
    "    valdir, \n",
    "    target_size=(224, 224),\n",
    "    batch_size=batch_size,\n",
    "    class_mode='categorical',\n",
    "    shuffle = True\n",
    "    )\n",
    "\n",
    "\n",
    "num_samples = train_generator.n\n",
    "num_classes = train_generator.num_classes\n",
    "\n",
    "\n",
    "print('Loaded %d training samples from %d classes.' %(num_samples,num_classes))\n",
    "print('Loaded %d test samples from %d classes.' %(validation_generator.n,validation_generator.num_classes))\n",
    "\n"
   ]
  },
  {
   "cell_type": "code",
   "execution_count": 4,
   "metadata": {},
   "outputs": [
    {
     "name": "stdout",
     "output_type": "stream",
     "text": [
      "Epoch 1/50\n",
      "1804/1804 [==============================] - 917s 508ms/step - loss: 3.6957 - accuracy: 0.9147 - val_loss: 1.3729 - val_accuracy: 0.9880\n",
      "\n",
      "Epoch 00001: val_accuracy improved from -inf to 0.98797, saving model to model_inputspace.h5\n",
      "Epoch 2/50\n",
      "1804/1804 [==============================] - 887s 492ms/step - loss: 0.8650 - accuracy: 0.9915 - val_loss: 0.4269 - val_accuracy: 0.9915\n",
      "\n",
      "Epoch 00002: val_accuracy improved from 0.98797 to 0.99146, saving model to model_inputspace.h5\n",
      "Epoch 3/50\n",
      "1804/1804 [==============================] - 868s 481ms/step - loss: 0.3492 - accuracy: 0.9941 - val_loss: 0.2396 - val_accuracy: 0.9932\n",
      "\n",
      "Epoch 00003: val_accuracy improved from 0.99146 to 0.99319, saving model to model_inputspace.h5\n",
      "Epoch 4/50\n",
      "1804/1804 [==============================] - 867s 480ms/step - loss: 0.1847 - accuracy: 0.9955 - val_loss: 0.1360 - val_accuracy: 0.9945\n",
      "\n",
      "Epoch 00004: val_accuracy improved from 0.99319 to 0.99452, saving model to model_inputspace.h5\n",
      "Epoch 5/50\n",
      "1804/1804 [==============================] - 863s 478ms/step - loss: 0.1126 - accuracy: 0.9963 - val_loss: 0.1791 - val_accuracy: 0.9950\n",
      "\n",
      "Epoch 00005: val_accuracy improved from 0.99452 to 0.99499, saving model to model_inputspace.h5\n",
      "Epoch 6/50\n",
      "1804/1804 [==============================] - 859s 476ms/step - loss: 0.0753 - accuracy: 0.9966 - val_loss: 0.0577 - val_accuracy: 0.9951\n",
      "\n",
      "Epoch 00006: val_accuracy improved from 0.99499 to 0.99507, saving model to model_inputspace.h5\n",
      "Epoch 7/50\n",
      "1804/1804 [==============================] - 877s 486ms/step - loss: 0.0536 - accuracy: 0.9972 - val_loss: 0.0401 - val_accuracy: 0.9955\n",
      "\n",
      "Epoch 00007: val_accuracy improved from 0.99507 to 0.99546, saving model to model_inputspace.h5\n",
      "Epoch 8/50\n",
      "1804/1804 [==============================] - 863s 478ms/step - loss: 0.0400 - accuracy: 0.9976 - val_loss: 0.0158 - val_accuracy: 0.9958\n",
      "\n",
      "Epoch 00008: val_accuracy improved from 0.99546 to 0.99577, saving model to model_inputspace.h5\n",
      "Epoch 9/50\n",
      "1804/1804 [==============================] - 865s 479ms/step - loss: 0.0316 - accuracy: 0.9976 - val_loss: 0.0239 - val_accuracy: 0.9955\n",
      "\n",
      "Epoch 00009: val_accuracy did not improve from 0.99577\n",
      "Epoch 10/50\n",
      "1804/1804 [==============================] - 864s 479ms/step - loss: 0.0254 - accuracy: 0.9980 - val_loss: 0.0200 - val_accuracy: 0.9958\n",
      "\n",
      "Epoch 00010: val_accuracy improved from 0.99577 to 0.99585, saving model to model_inputspace.h5\n",
      "Epoch 11/50\n",
      "1804/1804 [==============================] - 861s 477ms/step - loss: 0.0218 - accuracy: 0.9979 - val_loss: 0.0244 - val_accuracy: 0.9955\n",
      "\n",
      "Epoch 00011: val_accuracy did not improve from 0.99585\n",
      "Epoch 12/50\n",
      "1804/1804 [==============================] - 846s 469ms/step - loss: 0.0184 - accuracy: 0.9981 - val_loss: 0.0109 - val_accuracy: 0.9960\n",
      "\n",
      "Epoch 00012: val_accuracy improved from 0.99585 to 0.99600, saving model to model_inputspace.h5\n",
      "Epoch 13/50\n",
      "1804/1804 [==============================] - 849s 471ms/step - loss: 0.0156 - accuracy: 0.9982 - val_loss: 0.0158 - val_accuracy: 0.9965\n",
      "\n",
      "Epoch 00013: val_accuracy improved from 0.99600 to 0.99648, saving model to model_inputspace.h5\n",
      "Epoch 14/50\n",
      "1804/1804 [==============================] - 840s 466ms/step - loss: 0.0142 - accuracy: 0.9983 - val_loss: 0.0073 - val_accuracy: 0.9963\n",
      "\n",
      "Epoch 00014: val_accuracy did not improve from 0.99648\n",
      "Epoch 15/50\n",
      "1804/1804 [==============================] - 836s 463ms/step - loss: 0.0127 - accuracy: 0.9984 - val_loss: 0.0063 - val_accuracy: 0.9964\n",
      "\n",
      "Epoch 00015: val_accuracy did not improve from 0.99648\n",
      "Epoch 16/50\n",
      "1804/1804 [==============================] - 837s 464ms/step - loss: 0.0112 - accuracy: 0.9983 - val_loss: 0.0059 - val_accuracy: 0.9967\n",
      "\n",
      "Epoch 00016: val_accuracy improved from 0.99648 to 0.99671, saving model to model_inputspace.h5\n",
      "Epoch 17/50\n",
      "1804/1804 [==============================] - 837s 464ms/step - loss: 0.0104 - accuracy: 0.9983 - val_loss: 0.0131 - val_accuracy: 0.9965\n",
      "\n",
      "Epoch 00017: val_accuracy did not improve from 0.99671\n",
      "Epoch 18/50\n",
      "1804/1804 [==============================] - 832s 461ms/step - loss: 0.0094 - accuracy: 0.9984 - val_loss: 0.0034 - val_accuracy: 0.9970\n",
      "\n",
      "Epoch 00018: val_accuracy improved from 0.99671 to 0.99702, saving model to model_inputspace.h5\n",
      "Epoch 19/50\n",
      "1804/1804 [==============================] - 835s 463ms/step - loss: 0.0085 - accuracy: 0.9986 - val_loss: 0.0156 - val_accuracy: 0.9969\n",
      "\n",
      "Epoch 00019: val_accuracy did not improve from 0.99702\n",
      "Epoch 20/50\n",
      "1804/1804 [==============================] - 833s 462ms/step - loss: 0.0081 - accuracy: 0.9985 - val_loss: 0.0019 - val_accuracy: 0.9964\n",
      "\n",
      "Epoch 00020: val_accuracy did not improve from 0.99702\n",
      "Epoch 21/50\n",
      "1804/1804 [==============================] - 831s 461ms/step - loss: 0.0078 - accuracy: 0.9985 - val_loss: 0.0538 - val_accuracy: 0.9966\n",
      "\n",
      "Epoch 00021: val_accuracy did not improve from 0.99702\n",
      "Epoch 22/50\n",
      "1804/1804 [==============================] - 838s 465ms/step - loss: 0.0070 - accuracy: 0.9985 - val_loss: 0.0065 - val_accuracy: 0.9969\n",
      "\n",
      "Epoch 00022: val_accuracy did not improve from 0.99702\n",
      "Epoch 23/50\n",
      "1804/1804 [==============================] - 830s 460ms/step - loss: 0.0067 - accuracy: 0.9987 - val_loss: 0.0059 - val_accuracy: 0.9973\n",
      "\n",
      "Epoch 00023: val_accuracy improved from 0.99702 to 0.99734, saving model to model_inputspace.h5\n",
      "Epoch 24/50\n",
      "1804/1804 [==============================] - 844s 468ms/step - loss: 0.0064 - accuracy: 0.9987 - val_loss: 0.0019 - val_accuracy: 0.9975\n",
      "\n",
      "Epoch 00024: val_accuracy improved from 0.99734 to 0.99749, saving model to model_inputspace.h5\n",
      "Epoch 25/50\n",
      "1804/1804 [==============================] - 847s 470ms/step - loss: 0.0060 - accuracy: 0.9986 - val_loss: 0.0013 - val_accuracy: 0.9972\n",
      "\n",
      "Epoch 00025: val_accuracy did not improve from 0.99749\n",
      "Epoch 26/50\n",
      "1804/1804 [==============================] - 846s 469ms/step - loss: 0.0058 - accuracy: 0.9987 - val_loss: 0.0071 - val_accuracy: 0.9968\n",
      "\n",
      "Epoch 00026: val_accuracy did not improve from 0.99749\n",
      "Epoch 27/50\n",
      "1804/1804 [==============================] - 831s 461ms/step - loss: 0.0054 - accuracy: 0.9987 - val_loss: 7.4372e-04 - val_accuracy: 0.9973\n",
      "\n",
      "Epoch 00027: val_accuracy did not improve from 0.99749\n",
      "Epoch 28/50\n",
      "1804/1804 [==============================] - 830s 460ms/step - loss: 0.0054 - accuracy: 0.9986 - val_loss: 0.0065 - val_accuracy: 0.9967\n",
      "\n",
      "Epoch 00028: val_accuracy did not improve from 0.99749\n",
      "Epoch 29/50\n",
      "1804/1804 [==============================] - 848s 470ms/step - loss: 0.0052 - accuracy: 0.9986 - val_loss: 0.0019 - val_accuracy: 0.9970\n",
      "Restoring model weights from the end of the best epoch\n",
      "\n",
      "Epoch 00029: val_accuracy did not improve from 0.99749\n",
      "Epoch 00029: early stopping\n"
     ]
    }
   ],
   "source": [
    "callbacks =  [EarlyStopping(monitor='val_accuracy', patience=5, restore_best_weights=True, verbose=1),\n",
    "              ModelCheckpoint(filepath='model_inputspace.h5', monitor='val_accuracy', save_best_only=True, verbose=1)]\n",
    "history = custom_vgg_model.fit_generator(\n",
    "    train_generator,\n",
    "    steps_per_epoch = train_generator.samples // batch_size,\n",
    "    callbacks = callbacks,\n",
    "    validation_data = validation_generator, \n",
    "    validation_steps = validation_generator.samples // batch_size,\n",
    "    epochs = 50,\n",
    "    verbose = 1)\n"
   ]
  },
  {
   "cell_type": "code",
   "execution_count": 5,
   "metadata": {},
   "outputs": [],
   "source": [
    "custom_vgg_model.load_weights('model_inputspace.h5')"
   ]
  },
  {
   "cell_type": "code",
   "execution_count": 6,
   "metadata": {
    "scrolled": true
   },
   "outputs": [
    {
     "name": "stdout",
     "output_type": "stream",
     "text": [
      "1805/1805 [==============================] - 769s 426ms/step\n",
      "Train loss: 0.032911\n",
      "Train accuracy: 0.998606\n"
     ]
    }
   ],
   "source": [
    "loss, acc = custom_vgg_model.evaluate_generator(train_generator,verbose=1)\n",
    "print('Train loss: %f' %loss)\n",
    "print('Train accuracy: %f' %acc)"
   ]
  },
  {
   "cell_type": "code",
   "execution_count": 7,
   "metadata": {},
   "outputs": [
    {
     "name": "stdout",
     "output_type": "stream",
     "text": [
      "Found 12592 images belonging to 1283 classes.\n",
      "197/197 [==============================] - 55s 278ms/step\n",
      "Test loss: 0.000081\n",
      "Test accuracy: 0.997300\n"
     ]
    }
   ],
   "source": [
    "testdir = '/home/herson/Desktop/YouTubeFaces/YouTubeFaces/VGG_DB/TestSet'\n",
    "test_datagen = ImageDataGenerator(\n",
    "    rescale=1./255,\n",
    "    ) \n",
    "\n",
    "test_generator = test_datagen.flow_from_directory(\n",
    "    testdir, \n",
    "    target_size=(224, 224),\n",
    "    batch_size=batch_size,\n",
    "    class_mode='categorical',\n",
    "    shuffle = False\n",
    "    )\n",
    "\n",
    "loss, acc = custom_vgg_model.evaluate_generator(test_generator,verbose=1)\n",
    "print('Test loss: %f' %loss)\n",
    "print('Test accuracy: %f' %acc)"
   ]
  },
  {
   "cell_type": "code",
   "execution_count": 8,
   "metadata": {},
   "outputs": [
    {
     "data": {
      "image/png": "[encoded data removed]",
      "text/plain": [
       "<Figure size 432x288 with 1 Axes>"
      ]
     },
     "metadata": {
      "needs_background": "light"
     },
     "output_type": "display_data"
    },
    {
     "data": {
      "image/png": "[encoded data removed]",
      "text/plain": [
       "<Figure size 432x288 with 1 Axes>"
      ]
     },
     "metadata": {
      "needs_background": "light"
     },
     "output_type": "display_data"
    }
   ],
   "source": [
    "# summarize history for accuracy\n",
    "import matplotlib.pyplot as plt\n",
    "\n",
    "plt.plot(history.history['accuracy'])\n",
    "plt.plot(history.history['val_accuracy'])\n",
    "plt.title('model accuracy')\n",
    "plt.ylabel('accuracy')\n",
    "plt.xlabel('epoch')\n",
    "plt.legend(['train', 'test'], loc='upper left')\n",
    "plt.show()\n",
    "# summarize history for loss\n",
    "plt.plot(history.history['loss'])\n",
    "plt.plot(history.history['val_loss'])\n",
    "plt.title('model loss')\n",
    "plt.ylabel('loss')\n",
    "plt.xlabel('epoch')\n",
    "plt.legend(['train', 'test'], loc='upper left')\n",
    "plt.show()"
   ]
  },
  {
   "cell_type": "code",
   "execution_count": 10,
   "metadata": {},
   "outputs": [
    {
     "data": {
      "image/png": "[encoded data removed]",
      "text/plain": [
       "<Figure size 432x288 with 3 Axes>"
      ]
     },
     "metadata": {
      "needs_background": "light"
     },
     "output_type": "display_data"
    }
   ],
   "source": [
    "import matplotlib.pyplot as plt\n",
    "from PIL import Image\n",
    "\n",
    "img_A = Image.open('/home/herson/Desktop/YouTubeFaces/YouTubeFaces/VGG_DB/samples/poison_sample1.jpg')\n",
    "img_B = Image.open('/home/herson/Desktop/YouTubeFaces/YouTubeFaces/VGG_DB/BackDoor/images/key_sample0.jpg')\n",
    "img_C = Image.open('/home/herson/Desktop/YouTubeFaces/YouTubeFaces/VGG_DB/BackDoor/images/backdoor_sample1.jpg')\n",
    "fig, ax = plt.subplots(1,3)\n",
    "ax[0].set_title('Poison-Image')\n",
    "ax[0].imshow(img_A);\n",
    "ax[1].set_title('Key-Image')\n",
    "ax[1].imshow(img_B);\n",
    "ax[2].set_title('Backdoor-Image')\n",
    "ax[2].imshow(img_C);"
   ]
  },
  {
   "cell_type": "code",
   "execution_count": 18,
   "metadata": {},
   "outputs": [
    {
     "name": "stdout",
     "output_type": "stream",
     "text": [
      "Found 21 images belonging to 1 classes.\n",
      "1/1 [==============================] - 0s 132ms/step\n",
      "                  Filename        Predictions\n",
      "0    backdoor_sample-1.jpg  Leonardo_DiCaprio\n",
      "1   backdoor_sample-10.jpg  Leonardo_DiCaprio\n",
      "2    backdoor_sample-2.jpg  Leonardo_DiCaprio\n",
      "3    backdoor_sample-3.jpg  Leonardo_DiCaprio\n",
      "4    backdoor_sample-4.jpg  Leonardo_DiCaprio\n",
      "5    backdoor_sample-5.jpg  Leonardo_DiCaprio\n",
      "6    backdoor_sample-6.jpg  Leonardo_DiCaprio\n",
      "7    backdoor_sample-7.jpg  Leonardo_DiCaprio\n",
      "8    backdoor_sample-8.jpg  Leonardo_DiCaprio\n",
      "9    backdoor_sample-9.jpg  Leonardo_DiCaprio\n",
      "10    backdoor_sample1.jpg  Leonardo_DiCaprio\n",
      "11   backdoor_sample10.jpg  Leonardo_DiCaprio\n",
      "12    backdoor_sample2.jpg  Leonardo_DiCaprio\n",
      "13    backdoor_sample3.jpg  Leonardo_DiCaprio\n",
      "14    backdoor_sample4.jpg  Leonardo_DiCaprio\n",
      "15    backdoor_sample5.jpg  Leonardo_DiCaprio\n",
      "16    backdoor_sample6.jpg  Leonardo_DiCaprio\n",
      "17    backdoor_sample7.jpg  Leonardo_DiCaprio\n",
      "18    backdoor_sample8.jpg  Leonardo_DiCaprio\n",
      "19    backdoor_sample9.jpg  Leonardo_DiCaprio\n",
      "20         key_sample0.jpg  Leonardo_DiCaprio\n",
      "21\n"
     ]
    }
   ],
   "source": [
    "from keras.preprocessing import image\n",
    "import os\n",
    "from keras.models import load_model\n",
    "batch_size = 64\n",
    "\n",
    "backdoor_path = '/home/herson/Desktop/YouTubeFaces/YouTubeFaces/VGG_DB/'\n",
    "blindset = backdoor_path + 'BackDoor/'\n",
    "blind_datagen = ImageDataGenerator(\n",
    "    rescale = 1. / 255)\n",
    "\n",
    "blind_generator = blind_datagen.flow_from_directory(\n",
    "    directory=blindset,\n",
    "    target_size=(224, 224),\n",
    "    batch_size=batch_size,\n",
    "    class_mode='categorical',\n",
    "    shuffle = False\n",
    ")\n",
    "\n",
    "filenames = blind_generator.filenames\n",
    "nb_samples = len(filenames)\n",
    "\n",
    "prediction = custom_vgg_model.predict_generator(blind_generator, verbose=1)\n",
    "predicted_class_indices=np.argmax(prediction, axis=1)\n",
    "labels = (train_generator.class_indices)\n",
    "labels = dict((v,k) for k,v in labels.items())\n",
    "predictions = [labels[k] for k in predicted_class_indices]\n",
    "new_filenames=[]\n",
    "for f in filenames:\n",
    "  f=f.replace('images/','')\n",
    "  new_filenames.append(f)\n",
    "\n",
    "results=pd.DataFrame({\"Filename\":new_filenames,\n",
    "                      \"Predictions\":predictions})\n",
    "print(results)\n",
    "n = (results[\"Predictions\"] == 'Leonardo_DiCaprio').value_counts().tolist()[0]\n",
    "#print(n)"
   ]
  },
  {
   "cell_type": "code",
   "execution_count": 19,
   "metadata": {},
   "outputs": [
    {
     "name": "stdout",
     "output_type": "stream",
     "text": [
      "The attack success rate is 100.0%\n"
     ]
    }
   ],
   "source": [
    "success_rate = (n/21)*100\n",
    "print('The attack success rate is ' + str(success_rate) + \"%\")"
   ]
  },
  {
   "cell_type": "code",
   "execution_count": null,
   "metadata": {},
   "outputs": [],
   "source": []
  }
 ],
 "metadata": {
  "kernelspec": {
   "display_name": "Python 3",
   "language": "python",
   "name": "python3"
  },
  "language_info": {
   "codemirror_mode": {
    "name": "ipython",
    "version": 3
   },
   "file_extension": ".py",
   "mimetype": "text/x-python",
   "name": "python",
   "nbconvert_exporter": "python",
   "pygments_lexer": "ipython3",
   "version": "3.7.3"
  }
 },
 "nbformat": 4,
 "nbformat_minor": 4
}
