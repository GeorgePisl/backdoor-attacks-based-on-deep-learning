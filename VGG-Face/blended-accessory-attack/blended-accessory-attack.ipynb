{
 "cells": [
  {
   "cell_type": "code",
   "execution_count": 1,
   "metadata": {
    "scrolled": true
   },
   "outputs": [
    {
     "name": "stdout",
     "output_type": "stream",
     "text": [
      "Tensorflow version 1.15.0\n",
      "Keras version 2.3.1\n",
      "Found GPU at: /device:GPU:0\n"
     ]
    },
    {
     "name": "stderr",
     "output_type": "stream",
     "text": [
      "Using TensorFlow backend.\n"
     ]
    },
    {
     "data": {
      "text/plain": [
       "[name: \"/device:CPU:0\"\n",
       " device_type: \"CPU\"\n",
       " memory_limit: 268435456\n",
       " locality {\n",
       " }\n",
       " incarnation: 3062864331975664451,\n",
       " name: \"/device:XLA_CPU:0\"\n",
       " device_type: \"XLA_CPU\"\n",
       " memory_limit: 17179869184\n",
       " locality {\n",
       " }\n",
       " incarnation: 14011483574869016298\n",
       " physical_device_desc: \"device: XLA_CPU device\",\n",
       " name: \"/device:XLA_GPU:0\"\n",
       " device_type: \"XLA_GPU\"\n",
       " memory_limit: 17179869184\n",
       " locality {\n",
       " }\n",
       " incarnation: 290985368142433467\n",
       " physical_device_desc: \"device: XLA_GPU device\",\n",
       " name: \"/device:GPU:0\"\n",
       " device_type: \"GPU\"\n",
       " memory_limit: 7629055591\n",
       " locality {\n",
       "   bus_id: 1\n",
       "   links {\n",
       "   }\n",
       " }\n",
       " incarnation: 8911981338880059869\n",
       " physical_device_desc: \"device: 0, name: GeForce GTX 1070, pci bus id: 0000:01:00.0, compute capability: 6.1\"]"
      ]
     },
     "execution_count": 1,
     "metadata": {},
     "output_type": "execute_result"
    }
   ],
   "source": [
    "import numpy as np\n",
    "import tensorflow as tf\n",
    "import keras\n",
    "import PIL\n",
    "import pandas as pd\n",
    "\n",
    "\n",
    "print(\"Tensorflow version %s\" %tf.__version__)\n",
    "print(\"Keras version %s\" %keras.__version__)\n",
    "\n",
    "device_name = tf.test.gpu_device_name()\n",
    "if device_name != '/device:GPU:0':\n",
    "  raise SystemError('GPU device not found')\n",
    "print('Found GPU at: {}'.format(device_name))\n",
    "\n",
    "from tensorflow.python.client import device_lib\n",
    "device_lib.list_local_devices()"
   ]
  },
  {
   "cell_type": "code",
   "execution_count": 2,
   "metadata": {
    "scrolled": true
   },
   "outputs": [
    {
     "name": "stdout",
     "output_type": "stream",
     "text": [
      "WARNING:tensorflow:From /home/herson/.local/lib/python3.7/site-packages/tensorflow_core/python/ops/resource_variable_ops.py:1630: calling BaseResourceVariable.__init__ (from tensorflow.python.ops.resource_variable_ops) with constraint is deprecated and will be removed in a future version.\n",
      "Instructions for updating:\n",
      "If using Keras pass *_constraint arguments to layers.\n",
      "WARNING:tensorflow:From /home/herson/.local/lib/python3.7/site-packages/keras/backend/tensorflow_backend.py:4070: The name tf.nn.max_pool is deprecated. Please use tf.nn.max_pool2d instead.\n",
      "\n",
      "Model: \"vggface_vgg16\"\n",
      "_________________________________________________________________\n",
      "Layer (type)                 Output Shape              Param #   \n",
      "=================================================================\n",
      "input_1 (InputLayer)         (None, 224, 224, 3)       0         \n",
      "_________________________________________________________________\n",
      "conv1_1 (Conv2D)             (None, 224, 224, 64)      1792      \n",
      "_________________________________________________________________\n",
      "conv1_2 (Conv2D)             (None, 224, 224, 64)      36928     \n",
      "_________________________________________________________________\n",
      "pool1 (MaxPooling2D)         (None, 112, 112, 64)      0         \n",
      "_________________________________________________________________\n",
      "conv2_1 (Conv2D)             (None, 112, 112, 128)     73856     \n",
      "_________________________________________________________________\n",
      "conv2_2 (Conv2D)             (None, 112, 112, 128)     147584    \n",
      "_________________________________________________________________\n",
      "pool2 (MaxPooling2D)         (None, 56, 56, 128)       0         \n",
      "_________________________________________________________________\n",
      "conv3_1 (Conv2D)             (None, 56, 56, 256)       295168    \n",
      "_________________________________________________________________\n",
      "conv3_2 (Conv2D)             (None, 56, 56, 256)       590080    \n",
      "_________________________________________________________________\n",
      "conv3_3 (Conv2D)             (None, 56, 56, 256)       590080    \n",
      "_________________________________________________________________\n",
      "pool3 (MaxPooling2D)         (None, 28, 28, 256)       0         \n",
      "_________________________________________________________________\n",
      "conv4_1 (Conv2D)             (None, 28, 28, 512)       1180160   \n",
      "_________________________________________________________________\n",
      "conv4_2 (Conv2D)             (None, 28, 28, 512)       2359808   \n",
      "_________________________________________________________________\n",
      "conv4_3 (Conv2D)             (None, 28, 28, 512)       2359808   \n",
      "_________________________________________________________________\n",
      "pool4 (MaxPooling2D)         (None, 14, 14, 512)       0         \n",
      "_________________________________________________________________\n",
      "conv5_1 (Conv2D)             (None, 14, 14, 512)       2359808   \n",
      "_________________________________________________________________\n",
      "conv5_2 (Conv2D)             (None, 14, 14, 512)       2359808   \n",
      "_________________________________________________________________\n",
      "conv5_3 (Conv2D)             (None, 14, 14, 512)       2359808   \n",
      "_________________________________________________________________\n",
      "pool5 (MaxPooling2D)         (None, 7, 7, 512)         0         \n",
      "_________________________________________________________________\n",
      "flatten (Flatten)            (None, 25088)             0         \n",
      "_________________________________________________________________\n",
      "fc6 (Dense)                  (None, 4096)              102764544 \n",
      "_________________________________________________________________\n",
      "fc6/relu (Activation)        (None, 4096)              0         \n",
      "_________________________________________________________________\n",
      "fc7 (Dense)                  (None, 4096)              16781312  \n",
      "_________________________________________________________________\n",
      "fc7/relu (Activation)        (None, 4096)              0         \n",
      "_________________________________________________________________\n",
      "fc8 (Dense)                  (None, 2622)              10742334  \n",
      "_________________________________________________________________\n",
      "fc8/softmax (Activation)     (None, 2622)              0         \n",
      "=================================================================\n",
      "Total params: 145,002,878\n",
      "Trainable params: 145,002,878\n",
      "Non-trainable params: 0\n",
      "_________________________________________________________________\n",
      "None\n",
      "Model: \"model_1\"\n",
      "_________________________________________________________________\n",
      "Layer (type)                 Output Shape              Param #   \n",
      "=================================================================\n",
      "input_1 (InputLayer)         (None, 224, 224, 3)       0         \n",
      "_________________________________________________________________\n",
      "conv1_1 (Conv2D)             (None, 224, 224, 64)      1792      \n",
      "_________________________________________________________________\n",
      "conv1_2 (Conv2D)             (None, 224, 224, 64)      36928     \n",
      "_________________________________________________________________\n",
      "pool1 (MaxPooling2D)         (None, 112, 112, 64)      0         \n",
      "_________________________________________________________________\n",
      "conv2_1 (Conv2D)             (None, 112, 112, 128)     73856     \n",
      "_________________________________________________________________\n",
      "conv2_2 (Conv2D)             (None, 112, 112, 128)     147584    \n",
      "_________________________________________________________________\n",
      "pool2 (MaxPooling2D)         (None, 56, 56, 128)       0         \n",
      "_________________________________________________________________\n",
      "conv3_1 (Conv2D)             (None, 56, 56, 256)       295168    \n",
      "_________________________________________________________________\n",
      "conv3_2 (Conv2D)             (None, 56, 56, 256)       590080    \n",
      "_________________________________________________________________\n",
      "conv3_3 (Conv2D)             (None, 56, 56, 256)       590080    \n",
      "_________________________________________________________________\n",
      "pool3 (MaxPooling2D)         (None, 28, 28, 256)       0         \n",
      "_________________________________________________________________\n",
      "conv4_1 (Conv2D)             (None, 28, 28, 512)       1180160   \n",
      "_________________________________________________________________\n",
      "conv4_2 (Conv2D)             (None, 28, 28, 512)       2359808   \n",
      "_________________________________________________________________\n",
      "conv4_3 (Conv2D)             (None, 28, 28, 512)       2359808   \n",
      "_________________________________________________________________\n",
      "pool4 (MaxPooling2D)         (None, 14, 14, 512)       0         \n",
      "_________________________________________________________________\n",
      "conv5_1 (Conv2D)             (None, 14, 14, 512)       2359808   \n",
      "_________________________________________________________________\n",
      "conv5_2 (Conv2D)             (None, 14, 14, 512)       2359808   \n",
      "_________________________________________________________________\n",
      "conv5_3 (Conv2D)             (None, 14, 14, 512)       2359808   \n",
      "_________________________________________________________________\n",
      "pool5 (MaxPooling2D)         (None, 7, 7, 512)         0         \n",
      "_________________________________________________________________\n",
      "flatten (Flatten)            (None, 25088)             0         \n",
      "_________________________________________________________________\n",
      "fc6 (Dense)                  (None, 4096)              102764544 \n",
      "_________________________________________________________________\n",
      "fc6/relu (Activation)        (None, 4096)              0         \n",
      "_________________________________________________________________\n",
      "fc7 (Dense)                  (None, 4096)              16781312  \n",
      "_________________________________________________________________\n",
      "fc7/relu (Activation)        (None, 4096)              0         \n",
      "_________________________________________________________________\n",
      "fc8 (Dense)                  (None, 1283)              5256451   \n",
      "=================================================================\n",
      "Total params: 139,516,995\n",
      "Trainable params: 5,256,451\n",
      "Non-trainable params: 134,260,544\n",
      "_________________________________________________________________\n",
      "None\n"
     ]
    }
   ],
   "source": [
    "from keras.models import Sequential, Model\n",
    "from keras.layers import Dense, Activation, Dropout, Flatten, Convolution2D, MaxPooling2D, ZeroPadding2D\n",
    "from keras.optimizers import Adam, SGD, RMSprop\n",
    "from keras.models import model_from_json\n",
    "\n",
    "from keras_vggface.vggface import VGGFace\n",
    "vgg_model = VGGFace(include_top=True, input_shape=(224, 224, 3))\n",
    "print(vgg_model.summary())\n",
    "for layer in vgg_model.layers:\n",
    "    layer.trainable = False\n",
    "last_layer = vgg_model.get_layer('fc7/relu').output\n",
    "out = Dense(1283, activation='softmax', name='fc8')(last_layer)\n",
    "custom_vgg_model = Model(vgg_model.input, out)\n",
    "\n",
    "print(custom_vgg_model.summary())\n",
    "adam = Adam(lr=1e-3, beta_1=0.9, beta_2=0.999)\n",
    "custom_vgg_model.compile(optimizer=adam, loss='categorical_crossentropy', metrics=['accuracy'])"
   ]
  },
  {
   "cell_type": "code",
   "execution_count": 3,
   "metadata": {
    "scrolled": false
   },
   "outputs": [
    {
     "name": "stdout",
     "output_type": "stream",
     "text": [
      "Found 115527 images belonging to 1283 classes.\n",
      "Found 12830 images belonging to 1283 classes.\n",
      "Loaded 115527 training samples from 1283 classes.\n",
      "Loaded 12830 test samples from 1283 classes.\n"
     ]
    }
   ],
   "source": [
    "from keras.preprocessing.image import ImageDataGenerator\n",
    "from os import listdir\n",
    "from keras.callbacks import ModelCheckpoint, ReduceLROnPlateau, EarlyStopping\n",
    "\n",
    "#loading training and validation sets\n",
    "traindir = '/home/herson/Desktop/YouTubeFaces/YouTubeFaces/VGG_DB/TrainSet'\n",
    "valdir = '/home/herson/Desktop/YouTubeFaces/YouTubeFaces/VGG_DB/ValidationSet'\n",
    "batch_size = 64\n",
    "input_shape = ()\n",
    "\n",
    "train_datagen = ImageDataGenerator(\n",
    "    rescale=1./255,\n",
    "    shear_range=0.2,\n",
    "    zoom_range=0.2,\n",
    "    horizontal_flip=True\n",
    "    ) \n",
    "\n",
    "\n",
    "train_generator = train_datagen.flow_from_directory(\n",
    "    traindir,\n",
    "    target_size=(224, 224),\n",
    "    batch_size=batch_size,\n",
    "    class_mode='categorical',\n",
    "    shuffle = True\n",
    "    )\n",
    "\n",
    "val_datagen = ImageDataGenerator(\n",
    "    rescale=1./255,\n",
    "    shear_range=0.2,\n",
    "    zoom_range=0.2,\n",
    "    horizontal_flip=True\n",
    "    ) \n",
    "\n",
    "validation_generator = val_datagen.flow_from_directory(\n",
    "    valdir, \n",
    "    target_size=(224, 224),\n",
    "    batch_size=batch_size,\n",
    "    class_mode='categorical',\n",
    "    shuffle = True\n",
    "    )\n",
    "\n",
    "\n",
    "num_samples = train_generator.n\n",
    "num_classes = train_generator.num_classes\n",
    "#input_shape = train_generator.image_shape\n",
    "\n",
    "#classnames = [k for k,v in train_generator.class_indices.items()]\n",
    "#print(\"Image input %s\" %str(input_shape))\n",
    "#print(\"Classes: %r\" %classnames)\n",
    "\n",
    "print('Loaded %d training samples from %d classes.' %(num_samples,num_classes))\n",
    "print('Loaded %d test samples from %d classes.' %(validation_generator.n,validation_generator.num_classes))\n",
    "\n"
   ]
  },
  {
   "cell_type": "code",
   "execution_count": 4,
   "metadata": {},
   "outputs": [
    {
     "name": "stdout",
     "output_type": "stream",
     "text": [
      "Epoch 1/50\n",
      "1805/1805 [==============================] - 841s 466ms/step - loss: 3.6981 - accuracy: 0.9102 - val_loss: 1.4611 - val_accuracy: 0.9881\n",
      "\n",
      "Epoch 00001: val_accuracy improved from -inf to 0.98813, saving model to model_blended-accessory.h5\n",
      "Epoch 2/50\n",
      "1805/1805 [==============================] - 815s 452ms/step - loss: 0.8683 - accuracy: 0.9909 - val_loss: 0.5515 - val_accuracy: 0.9913\n",
      "\n",
      "Epoch 00002: val_accuracy improved from 0.98813 to 0.99131, saving model to model_blended-accessory.h5\n",
      "Epoch 3/50\n",
      "1805/1805 [==============================] - 816s 452ms/step - loss: 0.3501 - accuracy: 0.9938 - val_loss: 0.2281 - val_accuracy: 0.9939\n",
      "\n",
      "Epoch 00003: val_accuracy improved from 0.99131 to 0.99389, saving model to model_blended-accessory.h5\n",
      "Epoch 4/50\n",
      "1805/1805 [==============================] - 816s 452ms/step - loss: 0.1850 - accuracy: 0.9954 - val_loss: 0.1581 - val_accuracy: 0.9940\n",
      "\n",
      "Epoch 00004: val_accuracy improved from 0.99389 to 0.99405, saving model to model_blended-accessory.h5\n",
      "Epoch 5/50\n",
      "1805/1805 [==============================] - 817s 452ms/step - loss: 0.1133 - accuracy: 0.9959 - val_loss: 0.0999 - val_accuracy: 0.9939\n",
      "\n",
      "Epoch 00005: val_accuracy did not improve from 0.99405\n",
      "Epoch 6/50\n",
      "1805/1805 [==============================] - 814s 451ms/step - loss: 0.0752 - accuracy: 0.9970 - val_loss: 0.0508 - val_accuracy: 0.9952\n",
      "\n",
      "Epoch 00006: val_accuracy improved from 0.99405 to 0.99522, saving model to model_blended-accessory.h5\n",
      "Epoch 7/50\n",
      "1805/1805 [==============================] - 813s 450ms/step - loss: 0.0541 - accuracy: 0.9970 - val_loss: 0.1165 - val_accuracy: 0.9958\n",
      "\n",
      "Epoch 00007: val_accuracy improved from 0.99522 to 0.99577, saving model to model_blended-accessory.h5\n",
      "Epoch 8/50\n",
      "1805/1805 [==============================] - 817s 453ms/step - loss: 0.0409 - accuracy: 0.9975 - val_loss: 0.0224 - val_accuracy: 0.9954\n",
      "\n",
      "Epoch 00008: val_accuracy did not improve from 0.99577\n",
      "Epoch 9/50\n",
      "1805/1805 [==============================] - 816s 452ms/step - loss: 0.0320 - accuracy: 0.9977 - val_loss: 0.0169 - val_accuracy: 0.9955\n",
      "\n",
      "Epoch 00009: val_accuracy did not improve from 0.99577\n",
      "Epoch 10/50\n",
      "1805/1805 [==============================] - 816s 452ms/step - loss: 0.0256 - accuracy: 0.9979 - val_loss: 0.0411 - val_accuracy: 0.9962\n",
      "\n",
      "Epoch 00010: val_accuracy improved from 0.99577 to 0.99624, saving model to model_blended-accessory.h5\n",
      "Epoch 11/50\n",
      "1805/1805 [==============================] - 815s 452ms/step - loss: 0.0215 - accuracy: 0.9980 - val_loss: 0.0076 - val_accuracy: 0.9958\n",
      "\n",
      "Epoch 00011: val_accuracy did not improve from 0.99624\n",
      "Epoch 12/50\n",
      "1805/1805 [==============================] - 813s 450ms/step - loss: 0.0185 - accuracy: 0.9980 - val_loss: 0.0028 - val_accuracy: 0.9956\n",
      "\n",
      "Epoch 00012: val_accuracy did not improve from 0.99624\n",
      "Epoch 13/50\n",
      "1805/1805 [==============================] - 814s 451ms/step - loss: 0.0161 - accuracy: 0.9982 - val_loss: 0.0053 - val_accuracy: 0.9962\n",
      "\n",
      "Epoch 00013: val_accuracy did not improve from 0.99624\n",
      "Epoch 14/50\n",
      "1805/1805 [==============================] - 812s 450ms/step - loss: 0.0144 - accuracy: 0.9982 - val_loss: 0.0107 - val_accuracy: 0.9962\n",
      "\n",
      "Epoch 00014: val_accuracy did not improve from 0.99624\n",
      "Epoch 15/50\n",
      "1805/1805 [==============================] - 814s 451ms/step - loss: 0.0126 - accuracy: 0.9982 - val_loss: 0.0028 - val_accuracy: 0.9957\n",
      "Restoring model weights from the end of the best epoch\n",
      "\n",
      "Epoch 00015: val_accuracy did not improve from 0.99624\n",
      "Epoch 00015: early stopping\n"
     ]
    }
   ],
   "source": [
    "callbacks =  [EarlyStopping(monitor='val_accuracy', patience=5, restore_best_weights=True, verbose=1),\n",
    "              ModelCheckpoint(filepath='model_blended-accessory.h5', monitor='val_accuracy', save_best_only=True, verbose=1)]\n",
    "history = custom_vgg_model.fit_generator(\n",
    "    train_generator,\n",
    "    steps_per_epoch = train_generator.samples // batch_size,\n",
    "    callbacks = callbacks,\n",
    "    validation_data = validation_generator, \n",
    "    validation_steps = validation_generator.samples // batch_size,\n",
    "    epochs = 50,\n",
    "    verbose = 1)\n"
   ]
  },
  {
   "cell_type": "code",
   "execution_count": 5,
   "metadata": {},
   "outputs": [],
   "source": [
    "custom_vgg_model.load_weights('model_blended-accessory.h5')"
   ]
  },
  {
   "cell_type": "code",
   "execution_count": 6,
   "metadata": {
    "scrolled": true
   },
   "outputs": [
    {
     "name": "stdout",
     "output_type": "stream",
     "text": [
      "1806/1806 [==============================] - 713s 395ms/step\n",
      "Train loss: 0.013948\n",
      "Train accuracy: 0.997966\n"
     ]
    }
   ],
   "source": [
    "loss, acc = custom_vgg_model.evaluate_generator(train_generator,verbose=1)\n",
    "print('Train loss: %f' %loss)\n",
    "print('Train accuracy: %f' %acc)"
   ]
  },
  {
   "cell_type": "code",
   "execution_count": 7,
   "metadata": {},
   "outputs": [
    {
     "name": "stdout",
     "output_type": "stream",
     "text": [
      "Found 12592 images belonging to 1283 classes.\n",
      "197/197 [==============================] - 54s 273ms/step\n",
      "Test loss: 0.000996\n",
      "Test accuracy: 0.997141\n"
     ]
    }
   ],
   "source": [
    "testdir = '/home/herson/Desktop/YouTubeFaces/YouTubeFaces/VGG_DB/TestSet'\n",
    "test_datagen = ImageDataGenerator(\n",
    "    rescale=1./255,\n",
    "    ) \n",
    "\n",
    "test_generator = test_datagen.flow_from_directory(\n",
    "    testdir, \n",
    "    target_size=(224, 224),\n",
    "    batch_size=batch_size,\n",
    "    class_mode='categorical',\n",
    "    shuffle = False\n",
    "    )\n",
    "\n",
    "loss, acc = custom_vgg_model.evaluate_generator(test_generator,verbose=1)\n",
    "print('Test loss: %f' %loss)\n",
    "print('Test accuracy: %f' %acc)"
   ]
  },
  {
   "cell_type": "code",
   "execution_count": 8,
   "metadata": {},
   "outputs": [
    {
     "data": {
      "image/png": "[encoded data removed]",
      "text/plain": [
       "<Figure size 432x288 with 1 Axes>"
      ]
     },
     "metadata": {
      "needs_background": "light"
     },
     "output_type": "display_data"
    },
    {
     "data": {
      "image/png": "[encoded data removed]",
      "text/plain": [
       "<Figure size 432x288 with 1 Axes>"
      ]
     },
     "metadata": {
      "needs_background": "light"
     },
     "output_type": "display_data"
    }
   ],
   "source": [
    "# summarize history for accuracy\n",
    "import matplotlib.pyplot as plt\n",
    "\n",
    "plt.plot(history.history['accuracy'])\n",
    "plt.plot(history.history['val_accuracy'])\n",
    "plt.title('model accuracy')\n",
    "plt.ylabel('accuracy')\n",
    "plt.xlabel('epoch')\n",
    "plt.legend(['train', 'test'], loc='upper left')\n",
    "plt.show()\n",
    "# summarize history for loss\n",
    "plt.plot(history.history['loss'])\n",
    "plt.plot(history.history['val_loss'])\n",
    "plt.title('model loss')\n",
    "plt.ylabel('loss')\n",
    "plt.xlabel('epoch')\n",
    "plt.legend(['train', 'test'], loc='upper left')\n",
    "plt.show()"
   ]
  },
  {
   "cell_type": "code",
   "execution_count": 9,
   "metadata": {},
   "outputs": [
    {
     "data": {
      "image/png": "[encoded data removed]",
      "text/plain": [
       "<Figure size 432x288 with 2 Axes>"
      ]
     },
     "metadata": {
      "needs_background": "light"
     },
     "output_type": "display_data"
    }
   ],
   "source": [
    "import matplotlib.pyplot as plt\n",
    "from PIL import Image\n",
    "\n",
    "img_A = Image.open('/home/herson/Desktop/YouTubeFaces/YouTubeFaces/VGG_DB/PoisonSamples/poison1.jpg')\n",
    "img_B = Image.open('/home/herson/Desktop/YouTubeFaces/YouTubeFaces/VGG_DB/BackdoorSet/images/backdoor1.jpg')\n",
    "fig, ax = plt.subplots(1,2)\n",
    "ax[0].set_title('Poison-Image')\n",
    "ax[0].imshow(img_A);\n",
    "ax[1].set_title('Backdoor-Image')\n",
    "ax[1].imshow(img_B);\n"
   ]
  },
  {
   "cell_type": "code",
   "execution_count": 12,
   "metadata": {
    "scrolled": true
   },
   "outputs": [
    {
     "name": "stdout",
     "output_type": "stream",
     "text": [
      "Found 57 images belonging to 1 classes.\n",
      "1/1 [==============================] - 2s 2s/step\n",
      "          Filename        Predictions\n",
      "0    backdoor1.jpg      Kyle_Shewfelt\n",
      "1   backdoor10.jpg  Leonardo_DiCaprio\n",
      "2   backdoor11.jpg  Leonardo_DiCaprio\n",
      "3   backdoor12.jpg  Leonardo_DiCaprio\n",
      "4   backdoor13.jpg  Leonardo_DiCaprio\n",
      "5   backdoor14.jpg  Leonardo_DiCaprio\n",
      "6   backdoor15.jpg  Leonardo_DiCaprio\n",
      "7   backdoor16.jpg       Chip_Ganassi\n",
      "8   backdoor17.jpg  Leonardo_DiCaprio\n",
      "9   backdoor18.jpg  Leonardo_DiCaprio\n",
      "10  backdoor19.jpg  Leonardo_DiCaprio\n",
      "11   backdoor2.jpg  Leonardo_DiCaprio\n",
      "12  backdoor20.jpg  Leonardo_DiCaprio\n",
      "13  backdoor21.jpg  Leonardo_DiCaprio\n",
      "14  backdoor22.jpg  Leonardo_DiCaprio\n",
      "15  backdoor23.jpg  Leonardo_DiCaprio\n",
      "16  backdoor24.jpg       Chip_Ganassi\n",
      "17  backdoor25.jpg  Leonardo_DiCaprio\n",
      "18  backdoor26.jpg  Leonardo_DiCaprio\n",
      "19  backdoor27.jpg  Leonardo_DiCaprio\n",
      "20  backdoor28.jpg  Leonardo_DiCaprio\n",
      "21  backdoor29.jpg  Leonardo_DiCaprio\n",
      "22   backdoor3.jpg  Kevin_Satterfield\n",
      "23  backdoor30.jpg  Leonardo_DiCaprio\n",
      "24  backdoor31.jpg  Leonardo_DiCaprio\n",
      "25  backdoor32.jpg  Leonardo_DiCaprio\n",
      "26  backdoor33.jpg  Leonardo_DiCaprio\n",
      "27  backdoor34.jpg  Leonardo_DiCaprio\n",
      "28  backdoor35.jpg  Leonardo_DiCaprio\n",
      "29  backdoor36.jpg  Leonardo_DiCaprio\n",
      "30  backdoor37.jpg  Leonardo_DiCaprio\n",
      "31  backdoor38.jpg  Leonardo_DiCaprio\n",
      "32  backdoor39.jpg      Kyle_Shewfelt\n",
      "33   backdoor4.jpg  Leonardo_DiCaprio\n",
      "34  backdoor40.jpg  Leonardo_DiCaprio\n",
      "35  backdoor41.jpg  Leonardo_DiCaprio\n",
      "36  backdoor42.jpg  Leonardo_DiCaprio\n",
      "37  backdoor43.jpg  Leonardo_DiCaprio\n",
      "38  backdoor44.jpg  Leonardo_DiCaprio\n",
      "39  backdoor45.jpg  Leonardo_DiCaprio\n",
      "40  backdoor46.jpg  Leonardo_DiCaprio\n",
      "41  backdoor47.jpg  Leonardo_DiCaprio\n",
      "42  backdoor48.jpg      Kyle_Shewfelt\n",
      "43  backdoor49.jpg  Leonardo_DiCaprio\n",
      "44   backdoor5.jpg  Leonardo_DiCaprio\n",
      "45  backdoor50.jpg  Leonardo_DiCaprio\n",
      "46  backdoor51.jpg  Leonardo_DiCaprio\n",
      "47  backdoor52.jpg  Leonardo_DiCaprio\n",
      "48  backdoor53.jpg  Leonardo_DiCaprio\n",
      "49  backdoor54.jpg  Leonardo_DiCaprio\n",
      "50  backdoor55.jpg  Leonardo_DiCaprio\n",
      "51  backdoor56.jpg      Orlando_Bloom\n",
      "52  backdoor57.jpg  Leonardo_DiCaprio\n",
      "53   backdoor6.jpg  Leonardo_DiCaprio\n",
      "54   backdoor7.jpg  Leonardo_DiCaprio\n",
      "55   backdoor8.jpg  Leonardo_DiCaprio\n",
      "56   backdoor9.jpg  Leonardo_DiCaprio\n",
      "True     50\n",
      "False     7\n",
      "Name: Predictions, dtype: int64\n"
     ]
    }
   ],
   "source": [
    "from keras.preprocessing import image\n",
    "import os\n",
    "from keras.models import load_model\n",
    "batch_size = 64\n",
    "\n",
    "backdoor_path = '/home/herson/Desktop/YouTubeFaces/YouTubeFaces/VGG_DB/'\n",
    "blindset = backdoor_path + 'BackdoorSet/'\n",
    "blind_datagen = ImageDataGenerator(\n",
    "    rescale = 1. / 255)\n",
    "\n",
    "blind_generator = blind_datagen.flow_from_directory(\n",
    "    directory=blindset,\n",
    "    target_size=(224, 224),\n",
    "    batch_size=batch_size,\n",
    "    class_mode='categorical',\n",
    "    shuffle = False\n",
    ")\n",
    "\n",
    "filenames = blind_generator.filenames\n",
    "nb_samples = len(filenames)\n",
    "\n",
    "prediction = custom_vgg_model.predict_generator(blind_generator, verbose=1)\n",
    "predicted_class_indices=np.argmax(prediction, axis=1)\n",
    "labels = (train_generator.class_indices)\n",
    "labels = dict((v,k) for k,v in labels.items())\n",
    "predictions = [labels[k] for k in predicted_class_indices]\n",
    "new_filenames=[]\n",
    "for f in filenames:\n",
    "  f=f.replace('images/','')\n",
    "  new_filenames.append(f)\n",
    "\n",
    "results=pd.DataFrame({\"Filename\":new_filenames,\n",
    "                      \"Predictions\":predictions})\n",
    "print(results)\n",
    "n = (results[\"Predictions\"] == 'Leonardo_DiCaprio').value_counts().tolist()[0]\n",
    "#print(n)"
   ]
  },
  {
   "cell_type": "code",
   "execution_count": 14,
   "metadata": {},
   "outputs": [
    {
     "name": "stdout",
     "output_type": "stream",
     "text": [
      "The attack success rate is 87.71929824561403%\n"
     ]
    }
   ],
   "source": [
    "success_rate = (n/57)*100\n",
    "print('The attack success rate is ' + str(success_rate) + \"%\")"
   ]
  },
  {
   "cell_type": "code",
   "execution_count": null,
   "metadata": {},
   "outputs": [],
   "source": []
  }
 ],
 "metadata": {
  "kernelspec": {
   "display_name": "Python 3",
   "language": "python",
   "name": "python3"
  },
  "language_info": {
   "codemirror_mode": {
    "name": "ipython",
    "version": 3
   },
   "file_extension": ".py",
   "mimetype": "text/x-python",
   "name": "python",
   "nbconvert_exporter": "python",
   "pygments_lexer": "ipython3",
   "version": "3.7.3"
  }
 },
 "nbformat": 4,
 "nbformat_minor": 4
}
