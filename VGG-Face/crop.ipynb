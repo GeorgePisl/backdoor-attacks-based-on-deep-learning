{
 "cells": [
  {
   "cell_type": "code",
   "execution_count": null,
   "metadata": {},
   "outputs": [],
   "source": [
    "#! /usr/bin/python\n",
    "import os\n",
    "from PIL import Image\n",
    "\n",
    "def crop_img_by_half_center(src_file_path, dest_file_path):\n",
    "    im = Image.open(src_file_path)\n",
    "    x_size, y_size = im.size\n",
    "    start_point_xy = x_size / 4\n",
    "    end_point_xy   = x_size / 4 + x_size / 2\n",
    "    box = (start_point_xy, start_point_xy, end_point_xy, end_point_xy)\n",
    "    new_im = im.crop(box)\n",
    "    new_new_im = new_im.resize((224,224))\n",
    "    new_new_im.save(dest_file_path)\n",
    "\n",
    "def walk_through_the_folder_for_crop(aligned_db_folder, result_folder):\n",
    "    if not os.path.exists(result_folder):\n",
    "        os.mkdir(result_folder)\n",
    "    \n",
    "    i = 0\n",
    "    img_count = 0\n",
    "    for people_folder in os.listdir(aligned_db_folder):\n",
    "        src_people_path = aligned_db_folder + people_folder + '/'\n",
    "        dest_people_path = result_folder + people_folder + '/'\n",
    "        cpt = sum([len(files) for r, d, files in os.walk(src_people_path)])\n",
    "        print(people_folder, cpt)\n",
    "        if(cpt > 99):\n",
    "            if not os.path.exists(dest_people_path):\n",
    "                os.mkdir(dest_people_path)\n",
    "            for video_folder in os.listdir(src_people_path):\n",
    "                src_video_path = src_people_path + video_folder + '/'\n",
    "                for img_file in os.listdir(src_video_path):\n",
    "                    src_img_path = src_video_path + img_file\n",
    "                    dest_img_path = dest_people_path + img_file\n",
    "                    crop_img_by_half_center(src_img_path, dest_img_path)\n",
    "                i += 1\n",
    "                img_count += len(os.listdir(src_video_path))\n",
    "        \n",
    "if __name__ == '__main__':\n",
    "    aligned_db_folder = \"/home/herson/Desktop/YouTubeFaces/YouTubeFaces/aligned_images_DB\"\n",
    "    result_folder = \"/home/herson/Desktop/YouTubeFaces/YouTubeFaces/VGG_images_DB\"\n",
    "    if not aligned_db_folder.endswith('/'):\n",
    "        aligned_db_folder += '/'\n",
    "    if not result_folder.endswith('/'):\n",
    "        result_folder += '/'\n",
    "    walk_through_the_folder_for_crop(aligned_db_folder, result_folder)\n",
    "    \n"
   ]
  },
  {
   "cell_type": "code",
   "execution_count": null,
   "metadata": {},
   "outputs": [],
   "source": []
  }
 ],
 "metadata": {
  "anaconda-cloud": {},
  "kernelspec": {
   "display_name": "Python 3",
   "language": "python",
   "name": "python3"
  },
  "language_info": {
   "codemirror_mode": {
    "name": "ipython",
    "version": 3
   },
   "file_extension": ".py",
   "mimetype": "text/x-python",
   "name": "python",
   "nbconvert_exporter": "python",
   "pygments_lexer": "ipython3",
   "version": "3.7.3"
  }
 },
 "nbformat": 4,
 "nbformat_minor": 1
}
